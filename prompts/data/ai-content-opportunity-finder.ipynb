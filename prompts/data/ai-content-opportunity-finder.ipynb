# AI Content Opportunity Finder
# Quickly identify SEO and AEO content opportunities from keyword data
# Author: [Your Name]
# ----------------------------------------

import pandas as pd
import openai

# === CONFIGURATION ===
openai.api_key = "YOUR_API_KEY_HERE"

# === STEP 1: Load keyword dataset ===
df = pd.read_csv("data/keywords_sample.csv")

print("Loaded dataset with", len(df), "keywords.")
df.head()

# === STEP 2: Define the classification prompt ===
def classify_keyword(keyword, volume, difficulty, ctr):
    prompt = f"""
    You are an expert B2B content strategist.
    Analyze this keyword and provide a classification:

    Keyword: {keyword}
    Search Volume: {volume}
    Difficulty: {difficulty}
    CTR: {ctr}

    Return a JSON object with:
    - search_intent
    - aeo_opportunity
    - content_action
    - reasoning
    """

    response = openai.ChatCompletion.create(
        model="gpt-4o-mini",
        messages=[{"role": "user", "content": prompt}],
        temperature=0.4
    )

    return response.choices[0].message["content"]

# === STEP 3: Apply classification ===
results = []
for _, row in df.iterrows():
    classification = classify_keyword(
        row["keyword"],
        row["search_volume"],
        row["difficulty"],
        row["ctr"]
    )
    results.append(classification)

df["ai_output"] = results

# === STEP 4: Save output ===
df.to_csv("output_results.csv", index=False)
print("✅ Analysis complete. Results saved to output_results.csv.")
